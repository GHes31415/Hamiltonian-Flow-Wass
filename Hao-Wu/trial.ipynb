{
 "cells": [
  {
   "cell_type": "code",
   "execution_count": 1,
   "metadata": {},
   "outputs": [],
   "source": [
    "# Baby implementation of the algorithm"
   ]
  },
  {
   "cell_type": "code",
   "execution_count": 2,
   "metadata": {},
   "outputs": [],
   "source": [
    "import numpy as np\n",
    "import torch\n",
    "import torch.nn as nn\n",
    "import matplotlib.pyplot as plt\n",
    "import time\n",
    "import os\n",
    "from datetime import datetime\n",
    "\n",
    "from flow_and_mlp import NormalizingFlow, MLP_shift\n",
    "from solver import fixed_point_optim_solver#Implicit_Euler\n",
    "from hamiltonian import Hamiltonian_System, quadratic_init#, interaction_potential, quad_potential\n",
    "from set_train_params import set_params\n",
    "\n",
    "from evaluation import HO_sol, model_evaluation, eval_traj_error, plot_projection\n",
    "from record_init import create_eval_rec, create_param_rec, variable_init, HS_init, plot_rec\n",
    "#from main_alg import HF_main\n",
    "\n",
    "from others import sample_z, copy_net, tensor_to_numpy\n",
    "\n",
    "#torch.set_default_dtype(torch.float64)\n",
    "from NODE_HF import build_ODE_model_tabular, MLP"
   ]
  },
  {
   "cell_type": "code",
   "execution_count": null,
   "metadata": {},
   "outputs": [],
   "source": [
    "torch.manual_seed(42)\n",
    "params = set_params(potential_type='quadratic', dim=2)\n",
    "# hidden activation functions and hidden architecture\n",
    "params['hactivations'] = ['Tanh()', 'Tanh()']\n",
    "params['hlayers'] = [50, 50]\n",
    "#What is init_b?\n",
    "params['init_b'] = None\n",
    "\n",
    "params['potential_coef'] = torch.eye(params['dim']).to(params['device'])\n",
    "params['potential_coef'][1, 1] = 2/3\n",
    "# Coef2? Related to phi0?\n",
    "params['potential_coef2'] = - 1."
   ]
  }
 ],
 "metadata": {
  "kernelspec": {
   "display_name": "Hamiltonian_Flows_Wass",
   "language": "python",
   "name": "python3"
  },
  "language_info": {
   "codemirror_mode": {
    "name": "ipython",
    "version": 3
   },
   "file_extension": ".py",
   "mimetype": "text/x-python",
   "name": "python",
   "nbconvert_exporter": "python",
   "pygments_lexer": "ipython3",
   "version": "3.10.13"
  }
 },
 "nbformat": 4,
 "nbformat_minor": 2
}
