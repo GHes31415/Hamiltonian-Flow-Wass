{
 "cells": [
  {
   "cell_type": "code",
   "execution_count": 1,
   "metadata": {},
   "outputs": [],
   "source": [
    "# Baby implementation of the algorithm"
   ]
  },
  {
   "cell_type": "code",
   "execution_count": 2,
   "metadata": {},
   "outputs": [],
   "source": [
    "import numpy as np\n",
    "import torch\n",
    "import torch.nn as nn\n",
    "import matplotlib.pyplot as plt\n",
    "import time\n",
    "import os\n",
    "from datetime import datetime\n",
    "\n",
    "import torchdyn\n",
    "from torchdyn.core import NeuralODE\n",
    "\n",
    "from torchcfm.conditional_flow_matching import *\n",
    "from torchcfm.models.models import *\n",
    "from torchcfm.utils import *\n",
    "\n",
    "# from flow_and_mlp import NormalizingFlow, MLP_shift\n",
    "# from solver import fixed_point_optim_solver#Implicit_Euler\n",
    "# from hamiltonian import Hamiltonian_System, quadratic_init#, interaction_potential, quad_potential\n",
    "# from set_train_params import set_params\n",
    "\n",
    "# from evaluation import HO_sol, model_evaluation, eval_traj_error, plot_projection\n",
    "# from record_init import create_eval_rec, create_param_rec, variable_init, HS_init, plot_rec\n",
    "# #from main_alg import HF_main\n",
    "\n",
    "# from others import sample_z, copy_net, tensor_to_numpy\n",
    "\n",
    "# #torch.set_default_dtype(torch.float64)\n",
    "# from NODE_HF import build_ODE_model_tabular, MLP\n",
    "\n",
    "# from solver import linear_system_solver"
   ]
  },
  {
   "cell_type": "code",
   "execution_count": 4,
   "metadata": {},
   "outputs": [
    {
     "data": {
      "text/plain": [
       "<torch._C.Generator at 0x7f91270a45f0>"
      ]
     },
     "execution_count": 4,
     "metadata": {},
     "output_type": "execute_result"
    }
   ],
   "source": [
    "\n"
   ]
  },
  {
   "cell_type": "markdown",
   "metadata": {},
   "source": [
    "Potentials are coded as classes, their input is one or two coeficients. Each class has a function called potential_eval. The arguments of the potential_eval are x, and the log_jac. Some of them do not use the log_jac."
   ]
  },
  {
   "cell_type": "code",
   "execution_count": 12,
   "metadata": {},
   "outputs": [
    {
     "name": "stdout",
     "output_type": "stream",
     "text": [
      "positive? tensor([1.])\n",
      "Phi initial: tensor([[0.5408],\n",
      "        [0.2794],\n",
      "        [0.3198],\n",
      "        ...,\n",
      "        [0.0596],\n",
      "        [0.1234],\n",
      "        [0.0022]], grad_fn=<MulBackward0>)\n",
      "positive? tensor([1.])\n",
      "Phi initial: tensor([[4.0584e-01],\n",
      "        [3.7616e-01],\n",
      "        [2.7597e-01],\n",
      "        [1.4577e-01],\n",
      "        [3.8517e-02],\n",
      "        [2.0869e-04],\n",
      "        [5.2992e-02],\n",
      "        [1.8339e-01],\n",
      "        [3.4441e-01],\n",
      "        [4.7610e-01],\n",
      "        [5.3139e-01],\n",
      "        [4.9213e-01],\n",
      "        [3.7286e-01],\n",
      "        [2.1568e-01],\n",
      "        [7.6758e-02],\n",
      "        [4.5773e-03],\n",
      "        [2.0409e-02],\n",
      "        [1.1195e-01],\n",
      "        [2.4005e-01],\n",
      "        [3.5322e-01],\n",
      "        [5.0000e-01],\n",
      "        [4.5225e-01],\n",
      "        [3.2725e-01],\n",
      "        [1.7275e-01],\n",
      "        [4.7746e-02],\n",
      "        [1.8747e-33],\n",
      "        [4.7746e-02],\n",
      "        [1.7275e-01],\n",
      "        [3.2725e-01],\n",
      "        [4.5225e-01],\n",
      "        [5.0000e-01],\n",
      "        [4.5225e-01],\n",
      "        [3.2725e-01],\n",
      "        [1.7275e-01],\n",
      "        [4.7746e-02],\n",
      "        [1.6872e-32],\n",
      "        [4.7746e-02],\n",
      "        [1.7275e-01],\n",
      "        [3.2725e-01],\n",
      "        [4.5225e-01]], grad_fn=<MulBackward0>)\n"
     ]
    }
   ],
   "source": []
  },
  {
   "cell_type": "code",
   "execution_count": 11,
   "metadata": {},
   "outputs": [
    {
     "data": {
      "text/plain": [
       "tensor([[ 9.5957e-01,  8.9524e-02],\n",
       "        [ 8.8679e-01,  4.2015e-01],\n",
       "        [ 7.4440e-01,  7.2255e-01],\n",
       "        [ 5.4096e-01,  9.6497e-01],\n",
       "        [ 2.9504e-01,  1.1218e+00],\n",
       "        [ 3.4053e-02,  1.1778e+00],\n",
       "        [-2.1202e-01,  1.1281e+00],\n",
       "        [-4.1762e-01,  9.7556e-01],\n",
       "        [-5.6501e-01,  7.3212e-01],\n",
       "        [-6.4278e-01,  4.2047e-01],\n",
       "        [-6.4355e-01,  7.3648e-02],\n",
       "        [-5.6506e-01, -2.6873e-01],\n",
       "        [-4.1312e-01, -5.6810e-01],\n",
       "        [-2.0220e-01, -7.9527e-01],\n",
       "        [ 4.6424e-02, -9.3331e-01],\n",
       "        [ 3.0640e-01, -9.7425e-01],\n",
       "        [ 5.4923e-01, -9.1602e-01],\n",
       "        [ 7.4952e-01, -7.6336e-01],\n",
       "        [ 8.8955e-01, -5.2995e-01],\n",
       "        [ 9.6045e-01, -2.3702e-01],\n",
       "        [ 1.0000e+00,  0.0000e+00],\n",
       "        [ 9.5106e-01,  3.0902e-01],\n",
       "        [ 8.0902e-01,  5.8779e-01],\n",
       "        [ 5.8779e-01,  8.0902e-01],\n",
       "        [ 3.0902e-01,  9.5106e-01],\n",
       "        [ 6.1232e-17,  1.0000e+00],\n",
       "        [-3.0902e-01,  9.5106e-01],\n",
       "        [-5.8779e-01,  8.0902e-01],\n",
       "        [-8.0902e-01,  5.8779e-01],\n",
       "        [-9.5106e-01,  3.0902e-01],\n",
       "        [-1.0000e+00,  1.2246e-16],\n",
       "        [-9.5106e-01, -3.0902e-01],\n",
       "        [-8.0902e-01, -5.8779e-01],\n",
       "        [-5.8779e-01, -8.0902e-01],\n",
       "        [-3.0902e-01, -9.5106e-01],\n",
       "        [-1.8370e-16, -1.0000e+00],\n",
       "        [ 3.0902e-01, -9.5106e-01],\n",
       "        [ 5.8779e-01, -8.0902e-01],\n",
       "        [ 8.0902e-01, -5.8779e-01],\n",
       "        [ 9.5106e-01, -3.0902e-01]])"
      ]
     },
     "execution_count": 11,
     "metadata": {},
     "output_type": "execute_result"
    }
   ],
   "source": []
  },
  {
   "cell_type": "code",
   "execution_count": null,
   "metadata": {},
   "outputs": [],
   "source": []
  }
 ],
 "metadata": {
  "kernelspec": {
   "display_name": "Hamiltonian_Flows_Wass",
   "language": "python",
   "name": "python3"
  },
  "language_info": {
   "codemirror_mode": {
    "name": "ipython",
    "version": 3
   },
   "file_extension": ".py",
   "mimetype": "text/x-python",
   "name": "python",
   "nbconvert_exporter": "python",
   "pygments_lexer": "ipython3",
   "version": "3.10.13"
  }
 },
 "nbformat": 4,
 "nbformat_minor": 2
}
